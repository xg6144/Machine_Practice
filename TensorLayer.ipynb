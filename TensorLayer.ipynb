{
  "nbformat": 4,
  "nbformat_minor": 0,
  "metadata": {
    "kernelspec": {
      "display_name": "Python 3",
      "language": "python",
      "name": "python3"
    },
    "language_info": {
      "codemirror_mode": {
        "name": "ipython",
        "version": 3
      },
      "file_extension": ".py",
      "mimetype": "text/x-python",
      "name": "python",
      "nbconvert_exporter": "python",
      "pygments_lexer": "ipython3",
      "version": "3.7.3"
    },
    "colab": {
      "name": "TensorLayer.ipynb",
      "provenance": [],
      "collapsed_sections": [],
      "include_colab_link": true
    }
  },
  "cells": [
    {
      "cell_type": "markdown",
      "metadata": {
        "id": "view-in-github",
        "colab_type": "text"
      },
      "source": [
        "<a href=\"https://colab.research.google.com/github/xg6144/Machine_Practice/blob/main/TensorLayer.ipynb\" target=\"_parent\"><img src=\"https://colab.research.google.com/assets/colab-badge.svg\" alt=\"Open In Colab\"/></a>"
      ]
    },
    {
      "cell_type": "markdown",
      "metadata": {
        "id": "AQBmspAYPAM0"
      },
      "source": [
        "# Layer Explaination"
      ]
    },
    {
      "cell_type": "code",
      "metadata": {
        "id": "Ouygtc8CPAM1"
      },
      "source": [
        "import tensorflow as tf"
      ],
      "execution_count": null,
      "outputs": []
    },
    {
      "cell_type": "markdown",
      "metadata": {
        "id": "41MLTWd6PAM2"
      },
      "source": [
        "## Input Image  \n",
        "Input으로 들어갈 DataSet을 들여다보면서 시각화까지"
      ]
    },
    {
      "cell_type": "markdown",
      "metadata": {
        "id": "VjjReooRPAM2"
      },
      "source": [
        "패키지 로드  \n",
        "- os\n",
        "- glob\n",
        "- matplotlib"
      ]
    },
    {
      "cell_type": "code",
      "metadata": {
        "id": "eAC1my2LPAM2"
      },
      "source": [
        "import os\n",
        "\n",
        "import matplotlib.pyplot as plt\n",
        "%matplotlib inline"
      ],
      "execution_count": null,
      "outputs": []
    },
    {
      "cell_type": "code",
      "metadata": {
        "id": "BHvXPznVPAM2",
        "colab": {
          "base_uri": "https://localhost:8080/"
        },
        "outputId": "eafa1255-7071-4cc9-c8c5-298777e24900"
      },
      "source": [
        "from tensorflow.keras import datasets\n",
        "\n",
        "(train_input, train_target), (test_input, test_target) = datasets.mnist.load_data()"
      ],
      "execution_count": null,
      "outputs": [
        {
          "output_type": "stream",
          "text": [
            "Downloading data from https://storage.googleapis.com/tensorflow/tf-keras-datasets/mnist.npz\n",
            "11493376/11490434 [==============================] - 0s 0us/step\n"
          ],
          "name": "stdout"
        }
      ]
    },
    {
      "cell_type": "markdown",
      "metadata": {
        "id": "hqyRRdqEPAM3"
      },
      "source": [
        "이미지를 열어봤으니 무엇을 확인 해볼까요?"
      ]
    },
    {
      "cell_type": "code",
      "metadata": {
        "colab": {
          "base_uri": "https://localhost:8080/"
        },
        "id": "kV7UPGo2PAM3",
        "outputId": "950fefc6-f8a7-415b-fd87-434a0cdf2f13"
      },
      "source": [
        "# 이미지 shape 확인\n",
        "image = train_input[0]\n",
        "image.shape"
      ],
      "execution_count": null,
      "outputs": [
        {
          "output_type": "execute_result",
          "data": {
            "text/plain": [
              "(28, 28)"
            ]
          },
          "metadata": {
            "tags": []
          },
          "execution_count": 4
        }
      ]
    },
    {
      "cell_type": "markdown",
      "metadata": {
        "id": "dxdF7SrlPAM3"
      },
      "source": [
        "차원 수를 확인 했는데 어떤 결과가 나왔나요? "
      ]
    },
    {
      "cell_type": "code",
      "metadata": {
        "colab": {
          "base_uri": "https://localhost:8080/"
        },
        "id": "VCm6ytd4PAM3",
        "outputId": "23952ef0-f95e-4c0c-d511-231897597e16"
      },
      "source": [
        "# 차원 수 높이기 \n",
        "image = image[tf.newaxis,...,tf.newaxis]\n",
        "image.shape"
      ],
      "execution_count": null,
      "outputs": [
        {
          "output_type": "execute_result",
          "data": {
            "text/plain": [
              "(1, 28, 28, 1)"
            ]
          },
          "metadata": {
            "tags": []
          },
          "execution_count": 5
        }
      ]
    },
    {
      "cell_type": "markdown",
      "metadata": {
        "id": "_F7ZAyWiPAM3"
      },
      "source": [
        "# Feature Extraction"
      ]
    },
    {
      "cell_type": "markdown",
      "metadata": {
        "id": "6PtDvHOLPAM4"
      },
      "source": [
        "## Convolution"
      ]
    },
    {
      "cell_type": "markdown",
      "metadata": {
        "id": "-H0Y7HvNPAM4"
      },
      "source": [
        "filters: layer에서 나갈 때 몇 개의 filter를 만들 것인지 (a.k.a weights, filters, channels)  \n",
        "kernel_size: filter(Weight)의 사이즈  \n",
        "strides: 몇 개의 pixel을 skip 하면서 훑어지나갈 것인지 (사이즈에도 영향을 줌)  \n",
        "padding: zero padding을 만들 것인지. VALID는 Padding이 없고, SAME은 Padding이 있음 (사이즈에도 영향을 줌)  \n",
        "activation: Activation Function을 만들것인지. 당장 설정 안해도 Layer층을 따로 만들 수 있음"
      ]
    },
    {
      "cell_type": "markdown",
      "metadata": {
        "id": "1Ld2DC1oP_Gp"
      },
      "source": [
        ""
      ]
    },
    {
      "cell_type": "code",
      "metadata": {
        "colab": {
          "base_uri": "https://localhost:8080/"
        },
        "id": "SlyA5FMRPAM4",
        "outputId": "2e7a9551-67d2-475b-eea3-05f4bdc7cfca"
      },
      "source": [
        "tf.keras.layers.Conv2D(filters=3, kernel_size=(3,3), strides=(1,1), padding='SAME', activation='relu')"
      ],
      "execution_count": null,
      "outputs": [
        {
          "output_type": "execute_result",
          "data": {
            "text/plain": [
              "<tensorflow.python.keras.layers.convolutional.Conv2D at 0x7f5cb2616090>"
            ]
          },
          "metadata": {
            "tags": []
          },
          "execution_count": 6
        }
      ]
    },
    {
      "cell_type": "markdown",
      "metadata": {
        "id": "ww49mws1PAM4"
      },
      "source": [
        "(3, 3) 대신에 3으로도 대체 가능"
      ]
    },
    {
      "cell_type": "code",
      "metadata": {
        "colab": {
          "base_uri": "https://localhost:8080/"
        },
        "id": "2ilQaVY7PAM5",
        "outputId": "76a29723-dc9b-41d5-9d32-2d715a957b89"
      },
      "source": [
        "tf.keras.layers.Conv2D(3,3,1,'SAME')"
      ],
      "execution_count": null,
      "outputs": [
        {
          "output_type": "execute_result",
          "data": {
            "text/plain": [
              "<tensorflow.python.keras.layers.convolutional.Conv2D at 0x7f5cb2613dd0>"
            ]
          },
          "metadata": {
            "tags": []
          },
          "execution_count": 7
        }
      ]
    },
    {
      "cell_type": "markdown",
      "metadata": {
        "id": "eKJAHl_GPAM5"
      },
      "source": [
        "### Visualization"
      ]
    },
    {
      "cell_type": "markdown",
      "metadata": {
        "id": "cIfhxx2aPAM5"
      },
      "source": [
        "- tf.keras.layers.Conv2D"
      ]
    },
    {
      "cell_type": "code",
      "metadata": {
        "colab": {
          "base_uri": "https://localhost:8080/"
        },
        "id": "PrKxD1RTPAM5",
        "outputId": "30143ee0-7d77-4af5-debe-0b01ef7102bd"
      },
      "source": [
        "image = tf.cast(image, dtype=tf.float32)\n",
        "image.dtype"
      ],
      "execution_count": null,
      "outputs": [
        {
          "output_type": "execute_result",
          "data": {
            "text/plain": [
              "tf.float32"
            ]
          },
          "metadata": {
            "tags": []
          },
          "execution_count": 8
        }
      ]
    },
    {
      "cell_type": "code",
      "metadata": {
        "id": "iLqIzE-3PAM5"
      },
      "source": [
        "layer = tf.keras.layers.Conv2D(3,3,1,'SAME')"
      ],
      "execution_count": null,
      "outputs": []
    },
    {
      "cell_type": "code",
      "metadata": {
        "id": "B_av6-TnQ5w7"
      },
      "source": [
        "output = layer(image)"
      ],
      "execution_count": null,
      "outputs": []
    },
    {
      "cell_type": "code",
      "metadata": {
        "colab": {
          "base_uri": "https://localhost:8080/",
          "height": 201
        },
        "id": "femy3NiYRDy-",
        "outputId": "aa872718-5a8d-49a3-8cb6-efe3b8db36b4"
      },
      "source": [
        "plt.subplot(1,2,1)\n",
        "plt.imshow(output[0, :, :, 0], 'gray')\n",
        "plt.subplot(1,2,2)\n",
        "plt.imshow(image[0, :, :, 0], 'gray')\n",
        "plt.show()"
      ],
      "execution_count": null,
      "outputs": [
        {
          "output_type": "display_data",
          "data": {
            "image/png": "[encoded data removed]",
            "text/plain": [
              "<Figure size 432x288 with 2 Axes>"
            ]
          },
          "metadata": {
            "tags": [],
            "needs_background": "light"
          }
        }
      ]
    },
    {
      "cell_type": "markdown",
      "metadata": {
        "id": "0oyAkg5EPAM5"
      },
      "source": [
        "weight 불러오기\n",
        "\n",
        "- layer.get_weights()"
      ]
    },
    {
      "cell_type": "code",
      "metadata": {
        "id": "-KjFT9h6PAM5"
      },
      "source": [
        "weight = layer.get_weights()"
      ],
      "execution_count": null,
      "outputs": []
    },
    {
      "cell_type": "code",
      "metadata": {
        "colab": {
          "base_uri": "https://localhost:8080/"
        },
        "id": "AkEN2DRfUTYF",
        "outputId": "6749bb61-04e4-4be1-acb2-38644ca0b0e9"
      },
      "source": [
        "weight[0].shape, weight[1].shape"
      ],
      "execution_count": null,
      "outputs": [
        {
          "output_type": "execute_result",
          "data": {
            "text/plain": [
              "((3, 3, 1, 3), (3,))"
            ]
          },
          "metadata": {
            "tags": []
          },
          "execution_count": 13
        }
      ]
    },
    {
      "cell_type": "code",
      "metadata": {
        "colab": {
          "base_uri": "https://localhost:8080/",
          "height": 285
        },
        "id": "COqk9XwLUb47",
        "outputId": "3bee8611-b29d-46e0-d111-a05958fc69b6"
      },
      "source": [
        "plt.figure(figsize=(15, 5))\n",
        "plt.subplot(1,3,1)\n",
        "plt.hist(output.numpy().ravel(), range=[-2,2])\n",
        "plt.ylim(0, 100)\n",
        "plt.subplot(1,3,2)\n",
        "plt.hist(weight[0].shape)\n",
        "plt.title(weight[0].shape)\n",
        "plt.imshow(weight[0][:,:,0,0], 'gray')\n",
        "plt.subplot(1,3,3)\n",
        "plt.title(output.shape)\n",
        "plt.imshow(output[0,:,:,0], 'gray')\n",
        "plt.colorbar()\n",
        "plt.show()"
      ],
      "execution_count": null,
      "outputs": [
        {
          "output_type": "display_data",
          "data": {
            "image/png": "[encoded data removed]",
            "text/plain": [
              "<Figure size 1080x360 with 4 Axes>"
            ]
          },
          "metadata": {
            "tags": [],
            "needs_background": "light"
          }
        }
      ]
    },
    {
      "cell_type": "code",
      "metadata": {
        "id": "Ic_fFRAnVxvv"
      },
      "source": [
        "import numpy as np"
      ],
      "execution_count": null,
      "outputs": []
    },
    {
      "cell_type": "code",
      "metadata": {
        "colab": {
          "base_uri": "https://localhost:8080/"
        },
        "id": "QYri58BhVz0f",
        "outputId": "5cc70249-a4e8-4827-aa5e-109ec3a90182"
      },
      "source": [
        "np.min(output), np.max(output)"
      ],
      "execution_count": null,
      "outputs": [
        {
          "output_type": "execute_result",
          "data": {
            "text/plain": [
              "(-179.72165, 219.938)"
            ]
          },
          "metadata": {
            "tags": []
          },
          "execution_count": 16
        }
      ]
    },
    {
      "cell_type": "markdown",
      "metadata": {
        "id": "ZZCKIz6iPAM5"
      },
      "source": [
        "## Activation Function"
      ]
    },
    {
      "cell_type": "code",
      "metadata": {
        "colab": {
          "base_uri": "https://localhost:8080/"
        },
        "id": "-TcTIkwYPAM6",
        "outputId": "e25dc875-cd18-4732-e1c6-cf66cd3188e3"
      },
      "source": [
        "tf.keras.layers.ReLU()"
      ],
      "execution_count": null,
      "outputs": [
        {
          "output_type": "execute_result",
          "data": {
            "text/plain": [
              "<tensorflow.python.keras.layers.advanced_activations.ReLU at 0x7f5c723bc4d0>"
            ]
          },
          "metadata": {
            "tags": []
          },
          "execution_count": 17
        }
      ]
    },
    {
      "cell_type": "code",
      "metadata": {
        "scrolled": true,
        "colab": {
          "base_uri": "https://localhost:8080/"
        },
        "id": "OsKQZeg-PAM6",
        "outputId": "b1c4da53-40f0-4f7d-bdb2-9d50f289b910"
      },
      "source": [
        "act_layer = tf.keras.layers.ReLU()\n",
        "act_output = act_layer(output)\n",
        "\n",
        "np.min(act_output), np.max(act_output)"
      ],
      "execution_count": null,
      "outputs": [
        {
          "output_type": "execute_result",
          "data": {
            "text/plain": [
              "(0.0, 219.938)"
            ]
          },
          "metadata": {
            "tags": []
          },
          "execution_count": 18
        }
      ]
    },
    {
      "cell_type": "code",
      "metadata": {
        "colab": {
          "base_uri": "https://localhost:8080/",
          "height": 317
        },
        "id": "iEGIOA9LWVHb",
        "outputId": "cdfe41a8-a924-40d4-e7ed-d61b3c733404"
      },
      "source": [
        "plt.figure(figsize=(15,5))\n",
        "plt.subplot(121)\n",
        "plt.hist(act_output.numpy().ravel(), range=[-2,2])\n",
        "plt.ylim(0,100)\n",
        "\n",
        "plt.subplot(122)\n",
        "plt.title(act_output.shape)\n",
        "plt.imshow(act_output[0,:,:,0],'gray')\n",
        "plt.show()"
      ],
      "execution_count": null,
      "outputs": [
        {
          "output_type": "display_data",
          "data": {
            "image/png": "[encoded data removed]",
            "text/plain": [
              "<Figure size 1080x360 with 2 Axes>"
            ]
          },
          "metadata": {
            "tags": [],
            "needs_background": "light"
          }
        }
      ]
    },
    {
      "cell_type": "markdown",
      "metadata": {
        "id": "2LG_fP5wPAM6"
      },
      "source": [
        "## Pooling"
      ]
    },
    {
      "cell_type": "markdown",
      "metadata": {
        "id": "yIQXDCZ7PAM6"
      },
      "source": [
        "- tf.keras.layers.MaxPool2D"
      ]
    },
    {
      "cell_type": "code",
      "metadata": {
        "colab": {
          "base_uri": "https://localhost:8080/"
        },
        "id": "FlboRJ4ePAM6",
        "outputId": "1a6ffba8-b60a-431b-f760-d8ee6493ce8c"
      },
      "source": [
        "tf.keras.layers.MaxPool2D(pool_size=(2,2), strides=(2,2), padding='SAME')"
      ],
      "execution_count": null,
      "outputs": [
        {
          "output_type": "execute_result",
          "data": {
            "text/plain": [
              "<tensorflow.python.keras.layers.pooling.MaxPooling2D at 0x7f5c728782d0>"
            ]
          },
          "metadata": {
            "tags": []
          },
          "execution_count": 20
        }
      ]
    },
    {
      "cell_type": "code",
      "metadata": {
        "id": "WKZfRAVHPAM6"
      },
      "source": [
        "pool_layer = tf.keras.layers.MaxPool2D(pool_size=(2,2), strides=(2,2), padding='SAME')\n",
        "pool_output = pool_layer(act_output)"
      ],
      "execution_count": null,
      "outputs": []
    },
    {
      "cell_type": "code",
      "metadata": {
        "colab": {
          "base_uri": "https://localhost:8080/"
        },
        "id": "_IJ94uXUPAM7",
        "outputId": "aec5521c-6dee-4c0a-9144-2314b188fc14"
      },
      "source": [
        "act_output.shape"
      ],
      "execution_count": null,
      "outputs": [
        {
          "output_type": "execute_result",
          "data": {
            "text/plain": [
              "TensorShape([1, 28, 28, 3])"
            ]
          },
          "metadata": {
            "tags": []
          },
          "execution_count": 22
        }
      ]
    },
    {
      "cell_type": "code",
      "metadata": {
        "colab": {
          "base_uri": "https://localhost:8080/"
        },
        "id": "NRje367WPAM7",
        "outputId": "057db942-329a-4e07-c3c4-4cd501099d55"
      },
      "source": [
        "pool_output.shape"
      ],
      "execution_count": null,
      "outputs": [
        {
          "output_type": "execute_result",
          "data": {
            "text/plain": [
              "TensorShape([1, 14, 14, 3])"
            ]
          },
          "metadata": {
            "tags": []
          },
          "execution_count": 23
        }
      ]
    },
    {
      "cell_type": "code",
      "metadata": {
        "colab": {
          "base_uri": "https://localhost:8080/",
          "height": 306
        },
        "id": "S9Kduzp5PAM7",
        "outputId": "1efaf6d9-dc1e-4ec0-9999-93375156ab77"
      },
      "source": [
        "plt.figure(figsize=(15,5))\n",
        "plt.subplot(121)\n",
        "plt.hist(pool_output.numpy().ravel(), range=[-2,2])\n",
        "plt.ylim(0,100)\n",
        "\n",
        "plt.subplot(122)\n",
        "plt.title(pool_output.shape)\n",
        "plt.imshow(pool_output[0, :, :, 0], 'gray')\n",
        "plt.colorbar()\n",
        "plt.show()"
      ],
      "execution_count": null,
      "outputs": [
        {
          "output_type": "display_data",
          "data": {
            "image/png": "[encoded data removed]",
            "text/plain": [
              "<Figure size 1080x360 with 3 Axes>"
            ]
          },
          "metadata": {
            "tags": [],
            "needs_background": "light"
          }
        }
      ]
    },
    {
      "cell_type": "markdown",
      "metadata": {
        "id": "xWIoqRbxPAM7"
      },
      "source": [
        "# Fully Connected"
      ]
    },
    {
      "cell_type": "markdown",
      "metadata": {
        "id": "JPsa4u_FPAM7"
      },
      "source": [
        "## Flatten"
      ]
    },
    {
      "cell_type": "markdown",
      "metadata": {
        "id": "6SN_27fgPAM7"
      },
      "source": [
        "- tf.keras.layers.Flatten()"
      ]
    },
    {
      "cell_type": "code",
      "metadata": {
        "id": "7oZ4xHX9PAM8",
        "colab": {
          "base_uri": "https://localhost:8080/"
        },
        "outputId": "67eb8be1-4351-4972-e0a8-2a6b6b5e6c18"
      },
      "source": [
        "tf.keras.layers.Flatten()"
      ],
      "execution_count": null,
      "outputs": [
        {
          "output_type": "execute_result",
          "data": {
            "text/plain": [
              "<tensorflow.python.keras.layers.core.Flatten at 0x7f5c720b1990>"
            ]
          },
          "metadata": {
            "tags": []
          },
          "execution_count": 25
        }
      ]
    },
    {
      "cell_type": "code",
      "metadata": {
        "id": "TvBIzFX2PAM8"
      },
      "source": [
        "layer = tf.keras.layers.Flatten()"
      ],
      "execution_count": null,
      "outputs": []
    },
    {
      "cell_type": "code",
      "metadata": {
        "id": "dqLwowfXPAM8"
      },
      "source": [
        "flatten = layer(output)"
      ],
      "execution_count": null,
      "outputs": []
    },
    {
      "cell_type": "code",
      "metadata": {
        "colab": {
          "base_uri": "https://localhost:8080/"
        },
        "id": "3Me6521GrdIb",
        "outputId": "4f718fd0-0b86-456f-b4d4-f2f2c355bcfc"
      },
      "source": [
        "flatten.shape"
      ],
      "execution_count": null,
      "outputs": [
        {
          "output_type": "execute_result",
          "data": {
            "text/plain": [
              "TensorShape([1, 2352])"
            ]
          },
          "metadata": {
            "tags": []
          },
          "execution_count": 28
        }
      ]
    },
    {
      "cell_type": "code",
      "metadata": {
        "colab": {
          "base_uri": "https://localhost:8080/"
        },
        "id": "ffo4ylwKr2J0",
        "outputId": "87c18fa7-9221-427d-e0a4-4318a16b188a"
      },
      "source": [
        "print(flatten)"
      ],
      "execution_count": null,
      "outputs": [
        {
          "output_type": "stream",
          "text": [
            "tf.Tensor([[0. 0. 0. ... 0. 0. 0.]], shape=(1, 2352), dtype=float32)\n"
          ],
          "name": "stdout"
        }
      ]
    },
    {
      "cell_type": "code",
      "metadata": {
        "colab": {
          "base_uri": "https://localhost:8080/",
          "height": 209
        },
        "id": "iS1402HgrgxO",
        "outputId": "3bf44887-be33-411d-94db-e1c2515c65e8"
      },
      "source": [
        "plt.figure(figsize=(10,5))\n",
        "plt.subplot(211)\n",
        "plt.hist(flatten.numpy().ravel())\n",
        "plt.show()\n",
        "plt.subplot(212)\n",
        "plt.imshow(flatten[:,:100], 'jet')\n",
        "plt.show()"
      ],
      "execution_count": null,
      "outputs": [
        {
          "output_type": "display_data",
          "data": {
            "image/png": "[encoded data removed]",
            "text/plain": [
              "<Figure size 720x360 with 1 Axes>"
            ]
          },
          "metadata": {
            "tags": [],
            "needs_background": "light"
          }
        },
        {
          "output_type": "display_data",
          "data": {
            "image/png": "[encoded data removed]",
            "text/plain": [
              "<Figure size 432x288 with 1 Axes>"
            ]
          },
          "metadata": {
            "tags": [],
            "needs_background": "light"
          }
        }
      ]
    },
    {
      "cell_type": "markdown",
      "metadata": {
        "id": "5-H3BLtVPAM8"
      },
      "source": [
        "## Dense"
      ]
    },
    {
      "cell_type": "markdown",
      "metadata": {
        "id": "PTRkZdLZPAM8"
      },
      "source": [
        "- tf.keras.layers.Dense"
      ]
    },
    {
      "cell_type": "code",
      "metadata": {
        "id": "IQDwvcKRPAM8",
        "colab": {
          "base_uri": "https://localhost:8080/"
        },
        "outputId": "98db9595-991f-4b59-973d-2e2b4984261b"
      },
      "source": [
        "tf.keras.layers.Dense(32, activation='relu') #내보낼 유닛의 개수: 32"
      ],
      "execution_count": null,
      "outputs": [
        {
          "output_type": "execute_result",
          "data": {
            "text/plain": [
              "<tensorflow.python.keras.layers.core.Dense at 0x7f5c71fd9290>"
            ]
          },
          "metadata": {
            "tags": []
          },
          "execution_count": 31
        }
      ]
    },
    {
      "cell_type": "code",
      "metadata": {
        "id": "hRrLxFEOPAM8"
      },
      "source": [
        "layer = tf.keras.layers.Dense(32, activation='relu')"
      ],
      "execution_count": null,
      "outputs": []
    },
    {
      "cell_type": "code",
      "metadata": {
        "id": "z3JL1BXyPAM8",
        "colab": {
          "base_uri": "https://localhost:8080/"
        },
        "outputId": "07d12dda-c1e9-43b3-b400-cb1cca2b2d9c"
      },
      "source": [
        "dense = layer(output)\n",
        "dense.shape"
      ],
      "execution_count": null,
      "outputs": [
        {
          "output_type": "execute_result",
          "data": {
            "text/plain": [
              "TensorShape([1, 28, 28, 32])"
            ]
          },
          "metadata": {
            "tags": []
          },
          "execution_count": 33
        }
      ]
    },
    {
      "cell_type": "code",
      "metadata": {
        "colab": {
          "base_uri": "https://localhost:8080/"
        },
        "id": "VSdko981shHz",
        "outputId": "ad9c821d-5484-47d6-9670-17050efd22b3"
      },
      "source": [
        "layer_2 = tf.keras.layers.Dense(10, activation='relu')\n",
        "output_ex = layer_2(dense)\n",
        "output_ex.shape"
      ],
      "execution_count": null,
      "outputs": [
        {
          "output_type": "execute_result",
          "data": {
            "text/plain": [
              "TensorShape([1, 28, 28, 10])"
            ]
          },
          "metadata": {
            "tags": []
          },
          "execution_count": 34
        }
      ]
    },
    {
      "cell_type": "markdown",
      "metadata": {
        "id": "9YBe4tRCPAM9"
      },
      "source": [
        "## DropOut"
      ]
    },
    {
      "cell_type": "markdown",
      "metadata": {
        "id": "CD9T1xq5PAM9"
      },
      "source": [
        "- tf.keras.layers.Dropout"
      ]
    },
    {
      "cell_type": "code",
      "metadata": {
        "id": "XyyUilsEPAM9",
        "colab": {
          "base_uri": "https://localhost:8080/"
        },
        "outputId": "80db1b66-0dbd-4c11-ee75-0ed50a1ff9ad"
      },
      "source": [
        "tf.keras.layers.Dropout(0.7)"
      ],
      "execution_count": null,
      "outputs": [
        {
          "output_type": "execute_result",
          "data": {
            "text/plain": [
              "<tensorflow.python.keras.layers.core.Dropout at 0x7f5c71ecaed0>"
            ]
          },
          "metadata": {
            "tags": []
          },
          "execution_count": 35
        }
      ]
    },
    {
      "cell_type": "code",
      "metadata": {
        "id": "7RUjzkQTPAM9"
      },
      "source": [
        "layer = tf.keras.layers.Dropout(0.7)"
      ],
      "execution_count": null,
      "outputs": []
    },
    {
      "cell_type": "code",
      "metadata": {
        "id": "2y4g2HB93hAJ"
      },
      "source": [
        "drop_out = layer(output)"
      ],
      "execution_count": null,
      "outputs": []
    },
    {
      "cell_type": "code",
      "metadata": {
        "id": "c2CeEGSY3uMg",
        "colab": {
          "base_uri": "https://localhost:8080/"
        },
        "outputId": "b48dc980-d01a-48ef-b090-53f8178dd3db"
      },
      "source": [
        "drop_out.shape"
      ],
      "execution_count": null,
      "outputs": [
        {
          "output_type": "execute_result",
          "data": {
            "text/plain": [
              "TensorShape([1, 28, 28, 3])"
            ]
          },
          "metadata": {
            "tags": []
          },
          "execution_count": 38
        }
      ]
    },
    {
      "cell_type": "markdown",
      "metadata": {
        "id": "jzygUN3iPAM9"
      },
      "source": [
        "# Build Model"
      ]
    },
    {
      "cell_type": "code",
      "metadata": {
        "id": "SvNaw1PkPAM9"
      },
      "source": [
        "from tensorflow.keras import layers"
      ],
      "execution_count": null,
      "outputs": []
    },
    {
      "cell_type": "code",
      "metadata": {
        "id": "l9m6xvyuPAM-"
      },
      "source": [
        "input_shape = (28, 28, 1)\n",
        "num_classes = 10"
      ],
      "execution_count": null,
      "outputs": []
    },
    {
      "cell_type": "code",
      "metadata": {
        "id": "exERZjaFPAM-"
      },
      "source": [
        "inputs = layers.Input(shape=input_shape)\n",
        "\n",
        "net = layers.Conv2D(32, 3, padding='SAME')(inputs)\n",
        "net = layers.Activation('relu')(net)\n",
        "net = layers.MaxPool2D((2,2))(net)\n",
        "net = layers.Dropout(0.25)(net)\n",
        "\n",
        "#Convolution Block\n",
        "\n",
        "net = layers.Conv2D(64, 3, padding='SAME')(net)\n",
        "net = layers.Activation('relu')(net)\n",
        "net = layers.Conv2D(64,3, padding='SAME')(net)\n",
        "net = layers.Activation('relu')(net)\n",
        "net = layers.MaxPool2D((2,2))(net)\n",
        "net = layers.Dropout(0.25)(net)\n",
        "\n",
        "#Fully Connected\n",
        "\n",
        "net = layers.Flatten()(net)\n",
        "net = layers.Dense(512)(net)\n",
        "net = layers.Activation('relu')(net)\n",
        "net = layers.Dropout(0.25)(net)\n",
        "net = layers.Dense(10)(net)\n",
        "net = layers.Activation('softmax')(net)\n",
        "\n",
        "model = tf.keras.Model(inputs=inputs, outputs = net, name = 'Basic_CNN')"
      ],
      "execution_count": null,
      "outputs": []
    },
    {
      "cell_type": "code",
      "metadata": {
        "colab": {
          "base_uri": "https://localhost:8080/"
        },
        "id": "0X9CYsovWJY8",
        "outputId": "02e3fceb-6567-4381-92cb-82e7c38a05f0"
      },
      "source": [
        "model"
      ],
      "execution_count": null,
      "outputs": [
        {
          "output_type": "execute_result",
          "data": {
            "text/plain": [
              "<tensorflow.python.keras.engine.functional.Functional at 0x7f5c7135f250>"
            ]
          },
          "metadata": {
            "tags": []
          },
          "execution_count": 43
        }
      ]
    },
    {
      "cell_type": "markdown",
      "metadata": {
        "id": "KrsCMW-QWJFr"
      },
      "source": [
        ""
      ]
    },
    {
      "cell_type": "markdown",
      "metadata": {
        "id": "L1etrJBgPAM-"
      },
      "source": [
        "## Summary"
      ]
    },
    {
      "cell_type": "code",
      "metadata": {
        "scrolled": false,
        "id": "D4BDWbaHPAM-",
        "colab": {
          "base_uri": "https://localhost:8080/"
        },
        "outputId": "41a36bda-2b6b-41ea-f03a-0e885a371ff1"
      },
      "source": [
        "model.summary()"
      ],
      "execution_count": null,
      "outputs": [
        {
          "output_type": "stream",
          "text": [
            "Model: \"Basic_CNN\"\n",
            "_________________________________________________________________\n",
            "Layer (type)                 Output Shape              Param #   \n",
            "=================================================================\n",
            "input_1 (InputLayer)         [(None, 28, 28, 1)]       0         \n",
            "_________________________________________________________________\n",
            "conv2d_3 (Conv2D)            (None, 28, 28, 32)        320       \n",
            "_________________________________________________________________\n",
            "activation (Activation)      (None, 28, 28, 32)        0         \n",
            "_________________________________________________________________\n",
            "max_pooling2d_2 (MaxPooling2 (None, 14, 14, 32)        0         \n",
            "_________________________________________________________________\n",
            "dropout_2 (Dropout)          (None, 14, 14, 32)        0         \n",
            "_________________________________________________________________\n",
            "conv2d_4 (Conv2D)            (None, 14, 14, 64)        18496     \n",
            "_________________________________________________________________\n",
            "activation_1 (Activation)    (None, 14, 14, 64)        0         \n",
            "_________________________________________________________________\n",
            "conv2d_5 (Conv2D)            (None, 14, 14, 64)        36928     \n",
            "_________________________________________________________________\n",
            "activation_2 (Activation)    (None, 14, 14, 64)        0         \n",
            "_________________________________________________________________\n",
            "max_pooling2d_3 (MaxPooling2 (None, 7, 7, 64)          0         \n",
            "_________________________________________________________________\n",
            "dropout_3 (Dropout)          (None, 7, 7, 64)          0         \n",
            "_________________________________________________________________\n",
            "flatten_2 (Flatten)          (None, 3136)              0         \n",
            "_________________________________________________________________\n",
            "dense_3 (Dense)              (None, 512)               1606144   \n",
            "_________________________________________________________________\n",
            "activation_3 (Activation)    (None, 512)               0         \n",
            "_________________________________________________________________\n",
            "dropout_4 (Dropout)          (None, 512)               0         \n",
            "_________________________________________________________________\n",
            "dense_4 (Dense)              (None, 10)                5130      \n",
            "_________________________________________________________________\n",
            "activation_4 (Activation)    (None, 10)                0         \n",
            "=================================================================\n",
            "Total params: 1,667,018\n",
            "Trainable params: 1,667,018\n",
            "Non-trainable params: 0\n",
            "_________________________________________________________________\n"
          ],
          "name": "stdout"
        }
      ]
    },
    {
      "cell_type": "code",
      "metadata": {
        "id": "onRE-P1IWNED"
      },
      "source": [
        ""
      ],
      "execution_count": null,
      "outputs": []
    }
  ]
}