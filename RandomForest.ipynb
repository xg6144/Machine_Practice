{
  "nbformat": 4,
  "nbformat_minor": 0,
  "metadata": {
    "colab": {
      "name": "RandomForest.ipynb",
      "provenance": [],
      "collapsed_sections": [],
      "authorship_tag": "ABX9TyNSfcHcrmiSxqO6UAt30bP/",
      "include_colab_link": true
    },
    "kernelspec": {
      "name": "python3",
      "display_name": "Python 3"
    },
    "language_info": {
      "name": "python"
    }
  },
  "cells": [
    {
      "cell_type": "markdown",
      "metadata": {
        "id": "view-in-github",
        "colab_type": "text"
      },
      "source": [
        "<a href=\"https://colab.research.google.com/github/xg6144/Machine_Practice/blob/main/RandomForest.ipynb\" target=\"_parent\"><img src=\"https://colab.research.google.com/assets/colab-badge.svg\" alt=\"Open In Colab\"/></a>"
      ]
    },
    {
      "cell_type": "code",
      "metadata": {
        "id": "T-U7bCpZV3mc",
        "colab": {
          "base_uri": "https://localhost:8080/"
        },
        "outputId": "5a7720ba-9e87-46a9-81ce-50db4173aeb2"
      },
      "source": [
        "#랜덤포레스트\n",
        "import pandas as pd\n",
        "import numpy as np\n",
        "from sklearn.model_selection import train_test_split\n",
        "\n",
        "wine = pd.read_csv('https://bit.ly/wine-date')\n",
        "\n",
        "wine_data = wine[['alcohol', 'sugar', 'pH']].to_numpy()\n",
        "target = wine['class'].to_numpy()\n",
        "\n",
        "train_input, test_input, train_target, test_target = train_test_split(\n",
        "    wine_data, target, random_state = 42\n",
        ")\n",
        "\n",
        "from sklearn.model_selection import cross_validate\n",
        "from sklearn.ensemble import RandomForestClassifier\n",
        "\n",
        "rf = RandomForestClassifier(n_jobs=-1, random_state = 42)\n",
        "\n",
        "scores = cross_validate(rf, train_input, train_target,\n",
        "                        return_train_score = True, n_jobs=-1) #교차검증\n",
        "\n",
        "print(np.mean(scores['train_score']), np.mean(scores['test_score']))"
      ],
      "execution_count": null,
      "outputs": [
        {
          "output_type": "stream",
          "text": [
            "0.997844759088341 0.8914208392565683\n"
          ],
          "name": "stdout"
        }
      ]
    },
    {
      "cell_type": "code",
      "metadata": {
        "colab": {
          "base_uri": "https://localhost:8080/"
        },
        "id": "JdctMr10jYkY",
        "outputId": "42ad0202-7c71-4416-e077-53eec0ea7486"
      },
      "source": [
        "rf.fit(train_input, train_target)\n",
        "\n",
        "print(rf.feature_importances_) #중요도"
      ],
      "execution_count": null,
      "outputs": [
        {
          "output_type": "stream",
          "text": [
            "[0.23155241 0.49706658 0.27138101]\n"
          ],
          "name": "stdout"
        }
      ]
    },
    {
      "cell_type": "code",
      "metadata": {
        "colab": {
          "base_uri": "https://localhost:8080/"
        },
        "id": "yLt9fEmSqhbX",
        "outputId": "774c8b64-ebf1-46ea-cf44-1218d1a904f8"
      },
      "source": [
        "rf = RandomForestClassifier(oob_score=True, n_jobs=-1, random_state=42) #RandomForestClassfier는 자체적으로 모델을 평가한다. oob_score 하이퍼파라미터를 True로 설정하면 oob_score 점수를 얻을 수 있다.\n",
        "rf.fit(train_input, train_target)\n",
        "print(rf.oob_score_)"
      ],
      "execution_count": null,
      "outputs": [
        {
          "output_type": "stream",
          "text": [
            "0.8981937602627258\n"
          ],
          "name": "stdout"
        }
      ]
    },
    {
      "cell_type": "code",
      "metadata": {
        "colab": {
          "base_uri": "https://localhost:8080/"
        },
        "id": "U0IFVBODruuv",
        "outputId": "a3823339-20b6-4d67-a1ff-1a509521bd5b"
      },
      "source": [
        "#EXTRA TREE\n",
        "#Extra Tree는 RandomForest와 비슷한 방식으로 작동한다.\n",
        "#Extra Tree는 BootStrap Sample을 사용하지 않는다. - Node를 분할할 때 가장 좋은 것을 찾는 게 아닌 Random하게 분할한다.\n",
        "#과대 적합을 막고 검증 세트의 점수를 높인다. 회귀는 ExtraTressRegressor\n",
        "from sklearn.ensemble import ExtraTreesClassifier\n",
        "et = ExtraTreesClassifier(n_jobs=-1, random_state=42)\n",
        "scores = cross_validate(et, train_input, train_target,\n",
        "                        return_train_score=True, n_jobs=-1)\n",
        "print(np.mean(scores['train_score']),np.mean(scores['test_score']))"
      ],
      "execution_count": null,
      "outputs": [
        {
          "output_type": "stream",
          "text": [
            "0.997844759088341 0.8903937240035804\n"
          ],
          "name": "stdout"
        }
      ]
    },
    {
      "cell_type": "code",
      "metadata": {
        "colab": {
          "base_uri": "https://localhost:8080/"
        },
        "id": "nButkIgV5Ik4",
        "outputId": "bb221cf1-e03a-4f4a-d895-0fe71f0e1419"
      },
      "source": [
        "et.fit(train_input, train_target)\n",
        "print(et.feature_importances_) #alcohol, sugar, pH "
      ],
      "execution_count": null,
      "outputs": [
        {
          "output_type": "stream",
          "text": [
            "[0.20702369 0.51313261 0.2798437 ]\n"
          ],
          "name": "stdout"
        }
      ]
    },
    {
      "cell_type": "code",
      "metadata": {
        "colab": {
          "base_uri": "https://localhost:8080/"
        },
        "id": "3OsF4Hpn6Ni4",
        "outputId": "860595f1-2afd-4aed-aabc-a600113ca57c"
      },
      "source": [
        "#Gradient Boosting \n",
        "#Depth가 얕은 경우 Gradient Boosting으로 하면 과대적합을 방지할 수 있다. 경사하강법을 사용해 트리를 생성\n",
        "#Tree를 늘려도 과대적합을 막는데 효율적이다.\n",
        "from sklearn.ensemble import GradientBoostingClassifier\n",
        "gbc = GradientBoostingClassifier(random_state=42)\n",
        "scores = cross_validate(\n",
        "    gbc, train_input, train_target,\n",
        "    return_train_score = True, n_jobs=-1\n",
        ")\n",
        "print(np.mean(scores['train_score']), np.mean(scores['test_score']))"
      ],
      "execution_count": null,
      "outputs": [
        {
          "output_type": "stream",
          "text": [
            "0.8894704231708938 0.8715107671247301\n"
          ],
          "name": "stdout"
        }
      ]
    },
    {
      "cell_type": "code",
      "metadata": {
        "colab": {
          "base_uri": "https://localhost:8080/"
        },
        "id": "P6RuFeVA6qVh",
        "outputId": "c960c718-08a6-4055-d471-e845df75bf91"
      },
      "source": [
        "gbc.fit(train_input, train_target)\n",
        "print(gbc.feature_importances_)"
      ],
      "execution_count": null,
      "outputs": [
        {
          "output_type": "stream",
          "text": [
            "[0.12517641 0.73300095 0.14182264]\n"
          ],
          "name": "stdout"
        }
      ]
    },
    {
      "cell_type": "code",
      "metadata": {
        "colab": {
          "base_uri": "https://localhost:8080/"
        },
        "id": "hhnb9j6O7SVI",
        "outputId": "f330d84b-a53d-470c-b8b3-f4f932b48047"
      },
      "source": [
        "#Histogram Based Gradient Boosting\n",
        "#정형데이터를 다루는 알고리즘 중 가장 많이 사용된다.\n",
        "from sklearn.experimental import enable_hist_gradient_boosting\n",
        "from sklearn.ensemble import HistGradientBoostingClassifier\n",
        "hgb = HistGradientBoostingClassifier(random_state = 42)\n",
        "scores = cross_validate(\n",
        "    hgb, train_input, train_target,\n",
        "    return_train_score = True, n_jobs = -1\n",
        ")\n",
        "print(np.mean(scores['train_score']), np.mean(scores['test_score']))"
      ],
      "execution_count": null,
      "outputs": [
        {
          "output_type": "stream",
          "text": [
            "0.9380129799494501 0.8805410414363187\n"
          ],
          "name": "stdout"
        }
      ]
    },
    {
      "cell_type": "code",
      "metadata": {
        "colab": {
          "base_uri": "https://localhost:8080/"
        },
        "id": "iiSedVjO7SJY",
        "outputId": "2cdfc04e-4b48-4415-f8fc-b3164840acb2"
      },
      "source": [
        "hgb.fit(train_input, train_target)\n",
        "print(rf.feature_importances_)\n",
        "print(hgb.score(test_input, test_target))"
      ],
      "execution_count": null,
      "outputs": [
        {
          "output_type": "stream",
          "text": [
            "[0.23155241 0.49706658 0.27138101]\n",
            "0.8584615384615385\n"
          ],
          "name": "stdout"
        }
      ]
    },
    {
      "cell_type": "code",
      "metadata": {
        "colab": {
          "base_uri": "https://localhost:8080/"
        },
        "id": "yFo2GAuyLaMC",
        "outputId": "bedfde0b-1a10-421e-bd08-e61854c20a38"
      },
      "source": [
        "from sklearn.ensemble import HistGradientBoostingRegressor\n",
        "\n",
        "hgbr = HistGradientBoostingRegressor()\n",
        "scores = cross_validate(\n",
        "    hgbr, train_input, train_target,\n",
        "    return_train_score = True, n_jobs = -1\n",
        ")\n",
        "print(np.mean(scores['train_score']), np.mean(scores['test_score']))\n",
        "\n",
        "hgbr.fit(train_input, train_target)\n",
        "print(hgbr.predict([[9, 2, 3.5]])) #와인예측모델"
      ],
      "execution_count": null,
      "outputs": [
        {
          "output_type": "stream",
          "text": [
            "0.7024475200988506 0.5215015314918651\n",
            "[0.09152929]\n"
          ],
          "name": "stdout"
        }
      ]
    }
  ]
}